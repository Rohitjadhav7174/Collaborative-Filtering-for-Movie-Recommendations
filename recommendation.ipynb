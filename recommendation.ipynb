{
 "cells": [
  {
   "cell_type": "code",
   "execution_count": 1,
   "metadata": {},
   "outputs": [
    {
     "name": "stdout",
     "output_type": "stream",
     "text": [
      "WARNING:tensorflow:From c:\\Users\\rbsal\\AppData\\Local\\Programs\\Python\\Python310\\lib\\site-packages\\keras\\src\\losses.py:2976: The name tf.losses.sparse_softmax_cross_entropy is deprecated. Please use tf.compat.v1.losses.sparse_softmax_cross_entropy instead.\n",
      "\n",
      "WARNING:tensorflow:From c:\\Users\\rbsal\\AppData\\Local\\Programs\\Python\\Python310\\lib\\site-packages\\keras\\src\\backend.py:873: The name tf.get_default_graph is deprecated. Please use tf.compat.v1.get_default_graph instead.\n",
      "\n",
      "Epoch 1/5\n",
      "WARNING:tensorflow:From c:\\Users\\rbsal\\AppData\\Local\\Programs\\Python\\Python310\\lib\\site-packages\\keras\\src\\utils\\tf_utils.py:492: The name tf.ragged.RaggedTensorValue is deprecated. Please use tf.compat.v1.ragged.RaggedTensorValue instead.\n",
      "\n",
      " 207/3058 [=>............................] - ETA: 9:57 - loss: nan"
     ]
    }
   ],
   "source": [
    "import pandas as pd\n",
    "import numpy as np\n",
    "import tensorflow as tf\n",
    "from sklearn.preprocessing import LabelEncoder\n",
    "from sklearn.model_selection import train_test_split\n",
    "\n",
    "# Load the data\n",
    "df = pd.read_csv('rated_emotion_results.csv')\n",
    "\n",
    "# Encode user and item IDs to integer indices\n",
    "user_enc = LabelEncoder()\n",
    "df['user'] = user_enc.fit_transform(df['actor'].values)\n",
    "item_enc = LabelEncoder()\n",
    "df['item'] = item_enc.fit_transform(df['frame'].values)\n",
    "df['rating'] = df['rating'].values.astype(np.float32)\n",
    "\n",
    "num_users = df['user'].nunique()\n",
    "num_items = df['item'].nunique()\n",
    "\n",
    "# Create training and test sets\n",
    "X = df[['user', 'item']].values\n",
    "y = df['rating'].values\n",
    "X_train, X_test, y_train, y_test = train_test_split(X, y, test_size=0.2, random_state=42)\n",
    "\n",
    "# Define the collaborative filtering model\n",
    "class RecommenderNet(tf.keras.Model):\n",
    "    def __init__(self, num_users, num_items, embedding_size=50, **kwargs):\n",
    "        super(RecommenderNet, self).__init__(**kwargs)\n",
    "        self.user_embedding = tf.keras.layers.Embedding(num_users, embedding_size, embeddings_initializer='he_normal', embeddings_regularizer=tf.keras.regularizers.l2(1e-6))\n",
    "        self.item_embedding = tf.keras.layers.Embedding(num_items, embedding_size, embeddings_initializer='he_normal', embeddings_regularizer=tf.keras.regularizers.l2(1e-6))\n",
    "        self.dot = tf.keras.layers.Dot(axes=1)\n",
    "\n",
    "    def call(self, inputs):\n",
    "        user_vector = self.user_embedding(inputs[:, 0])\n",
    "        item_vector = self.item_embedding(inputs[:, 1])\n",
    "        return self.dot([user_vector, item_vector])\n",
    "\n",
    "# Instantiate and compile the model\n",
    "model = RecommenderNet(num_users, num_items)\n",
    "model.compile(loss='mse', optimizer=tf.keras.optimizers.Adam(learning_rate=0.001))\n",
    "\n",
    "# Train the model\n",
    "history = model.fit(x=X_train, y=y_train, batch_size=64, epochs=5, validation_data=(X_test, y_test))\n",
    "\n"
   ]
  },
  {
   "cell_type": "code",
   "execution_count": 5,
   "metadata": {},
   "outputs": [
    {
     "name": "stdout",
     "output_type": "stream",
     "text": [
      "5577/5577 [==============================] - 20s 4ms/step\n",
      "********Top 5 recommendations are***********\n",
      " ['G:\\\\IITB dataset\\\\IEMOCAP_full_release\\\\Session1\\\\dialog\\\\avi\\\\new\\\\Ses01F_script03_1_frame_4007.jpg'\n",
      " 'G:\\\\IITB dataset\\\\IEMOCAP_full_release\\\\Session1\\\\dialog\\\\avi\\\\new\\\\Ses01F_script03_1_frame_4008.jpg'\n",
      " 'G:\\\\IITB dataset\\\\IEMOCAP_full_release\\\\Session1\\\\dialog\\\\avi\\\\new\\\\Ses01F_script03_1_frame_4009.jpg'\n",
      " 'G:\\\\IITB dataset\\\\IEMOCAP_full_release\\\\Session1\\\\dialog\\\\avi\\\\new\\\\Ses01F_script03_1_frame_4001.jpg'\n",
      " 'G:\\\\IITB dataset\\\\IEMOCAP_full_release\\\\Session1\\\\dialog\\\\avi\\\\new\\\\Ses01M_script03_2_frame_9999.jpg']\n"
     ]
    }
   ],
   "source": [
    "\n",
    "# Make recommendations for a specific user (actor)\n",
    "def recommend_items(user_id, num_recommendations=5):\n",
    "    user_index = user_enc.transform([user_id])[0]\n",
    "    user_vector = np.array([user_index] * num_items)\n",
    "    item_vector = np.array(range(num_items))\n",
    "    predictions = model.predict(np.stack([user_vector, item_vector], axis=1))\n",
    "    recommended_items = np.argsort(predictions[:, 0])[-num_recommendations:]\n",
    "    recommended_frames = item_enc.inverse_transform(recommended_items)\n",
    "    return recommended_frames\n",
    "\n",
    "# Example: Recommend 5 items for actor 'Ses01F'\n",
    "recommended_frames = recommend_items('Ses01F', num_recommendations=5)\n",
    "print(\"********Top 5 recommendations are***********\\n\",recommended_frames)"
   ]
  },
  {
   "cell_type": "code",
   "execution_count": null,
   "metadata": {},
   "outputs": [],
   "source": []
  }
 ],
 "metadata": {
  "kernelspec": {
   "display_name": "Python 3",
   "language": "python",
   "name": "python3"
  },
  "language_info": {
   "codemirror_mode": {
    "name": "ipython",
    "version": 3
   },
   "file_extension": ".py",
   "mimetype": "text/x-python",
   "name": "python",
   "nbconvert_exporter": "python",
   "pygments_lexer": "ipython3",
   "version": "3.10.2"
  }
 },
 "nbformat": 4,
 "nbformat_minor": 2
}
