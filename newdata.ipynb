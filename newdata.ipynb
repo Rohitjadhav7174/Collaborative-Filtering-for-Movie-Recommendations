{
 "cells": [
  {
   "cell_type": "code",
   "execution_count": null,
   "metadata": {},
   "outputs": [],
   "source": [
    "import pandas as pd\n",
    "from keras.applications import VGG16\n",
    "from keras.preprocessing.image import load_img\n",
    "from keras.preprocessing.image import img_to_array\n",
    "from sklearn.metrics.pairwise import cosine_similarity\n",
    "\n",
    "# Load the movie poster images\n",
    "image_dir = 'path/to/movie/posters'\n",
    "image_files = [f for f in os.listdir(image_dir) if f.endswith('.jpg')]\n",
    "\n",
    "# Extract features from images using VGG16\n",
    "vgg_model = VGG16(weights='imagenet', include_top=False, input_shape=(224, 224, 3))\n",
    "features = []\n",
    "for file in image_files:\n",
    "    img = load_img(os.path.join(image_dir, file), target_size=(224, 224))\n",
    "    img_array = img_to_array(img)\n",
    "    features.append(vgg_model.predict(img_array))\n",
    "\n",
    "# Build the user-item matrix\n",
    "user_item_matrix = pd.read_csv('user_item_matrix.csv')\n",
    "\n",
    "# Compute similarity between items\n",
    "similarity_matrix = cosine_similarity(features)\n",
    "\n",
    "# Build a neighborhood model\n",
    "k = 50\n",
    "neighborhood_model = {}\n",
    "for i, movie in enumerate(image_files):\n",
    "    neighbors = np.argsort(similarity_matrix[i])[:k]\n",
    "    neighborhood_model[movie] = [image_files[j] for j in neighbors]\n",
    "\n",
    "# Predict ratings\n",
    "def predict_rating(user, movie):\n",
    "    neighbors = neighborhood_model[movie]\n",
    "    ratings = []\n",
    "    for neighbor in neighbors:\n",
    "        rating = user_item_matrix.loc[user, neighbor]\n",
    "        ratings.append(rating)\n",
    "    return np.mean(ratings)\n",
    "\n",
    "# Test the model\n",
    "user = 'user1'\n",
    "movie = 'movie1'\n",
    "predicted_rating = predict_rating(user, movie)\n",
    "print(f'Predicted rating: {predicted_rating:.2f}')"
   ]
  }
 ],
 "metadata": {
  "language_info": {
   "name": "python"
  }
 },
 "nbformat": 4,
 "nbformat_minor": 2
}
